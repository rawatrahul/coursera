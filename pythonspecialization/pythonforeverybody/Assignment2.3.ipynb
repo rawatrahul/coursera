{
 "cells": [
  {
   "cell_type": "code",
   "execution_count": 1,
   "metadata": {},
   "outputs": [
    {
     "name": "stdout",
     "output_type": "stream",
     "text": [
      "Enter Hours:35\n",
      "Enter Rate:2.75\n",
      "Pay: 96.25\n"
     ]
    }
   ],
   "source": [
    "# This first line is provided for you\n",
    "\n",
    "hrs = input(\"Enter Hours:\")\n",
    "rate = input(\"Enter Rate:\")\n",
    "print(\"Pay:\",float(hrs)*float(rate))"
   ]
  },
  {
   "cell_type": "code",
   "execution_count": null,
   "metadata": {
    "collapsed": true
   },
   "outputs": [],
   "source": []
  }
 ],
 "metadata": {
  "kernelspec": {
   "display_name": "Python 3",
   "language": "python",
   "name": "python3"
  },
  "language_info": {
   "codemirror_mode": {
    "name": "ipython",
    "version": 3
   },
   "file_extension": ".py",
   "mimetype": "text/x-python",
   "name": "python",
   "nbconvert_exporter": "python",
   "pygments_lexer": "ipython3",
   "version": "3.6.1"
  }
 },
 "nbformat": 4,
 "nbformat_minor": 2
}
